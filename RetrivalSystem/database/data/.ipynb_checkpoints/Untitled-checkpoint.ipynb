{
 "cells": [
  {
   "cell_type": "code",
   "execution_count": 58,
   "id": "d1fcb835",
   "metadata": {},
   "outputs": [],
   "source": [
    "import pandas as pd\n",
    "import numpy as np"
   ]
  },
  {
   "cell_type": "code",
   "execution_count": 59,
   "id": "75c6eb5d",
   "metadata": {},
   "outputs": [],
   "source": [
    "df1 = pd.read_csv('data.csv')\n",
    "df2 = pd.read_csv('data - Copy.csv')"
   ]
  },
  {
   "cell_type": "code",
   "execution_count": 60,
   "id": "ad8ea3a5",
   "metadata": {
    "scrolled": true
   },
   "outputs": [],
   "source": [
    "# ['Unnamed: 0', 'URL', 'title', 'date', 'source', 'article', '索引号', \n",
    "# ' 发文机关', ' 标题', ' 发文字号', ' 分类', ' 成文日期', ' 发布日期']\n",
    "df1 = df1.loc[:, ['URL', 'title', 'date', 'source', 'article', '索引号', ' 发文字号', ' 分类']]"
   ]
  },
  {
   "cell_type": "code",
   "execution_count": 61,
   "id": "15a136b9",
   "metadata": {},
   "outputs": [
    {
     "data": {
      "text/plain": [
       "url          0\n",
       "title        0\n",
       "date         0\n",
       "source       0\n",
       "article      0\n",
       "indexno     40\n",
       "doc_no      40\n",
       "category    40\n",
       "dtype: int64"
      ]
     },
     "execution_count": 61,
     "metadata": {},
     "output_type": "execute_result"
    }
   ],
   "source": [
    "df1.columns = ['url', 'title', 'date', 'source', 'article', 'indexno', 'doc_no', 'category']\n",
    "df1.isnull().sum()"
   ]
  },
  {
   "cell_type": "code",
   "execution_count": 62,
   "id": "9cc9ca32",
   "metadata": {},
   "outputs": [],
   "source": [
    "df2 = df2.loc[\n",
    "    :, \n",
    "    ['URL', 'title', 'date', 'source', ' 索引号', ' 发文字号', ' 分类', '地区']\n",
    "]"
   ]
  },
  {
   "cell_type": "code",
   "execution_count": 63,
   "id": "21294b38",
   "metadata": {},
   "outputs": [
    {
     "data": {
      "text/plain": [
       "url          0\n",
       "title        0\n",
       "date         0\n",
       "source       0\n",
       "indexno     45\n",
       "doc_no      37\n",
       "category    33\n",
       "region       0\n",
       "dtype: int64"
      ]
     },
     "execution_count": 63,
     "metadata": {},
     "output_type": "execute_result"
    }
   ],
   "source": [
    "df2.columns = ['url', 'title', 'date', 'source', 'indexno', 'doc_no', 'category', 'region']\n",
    "df2.isnull().sum()"
   ]
  },
  {
   "cell_type": "code",
   "execution_count": 64,
   "id": "2e8b5496",
   "metadata": {},
   "outputs": [],
   "source": [
    "df = pd.DataFrame(columns=['url', 'title', 'date', 'source', 'article', 'indexno', 'doc_no', 'category', 'region'])"
   ]
  },
  {
   "cell_type": "code",
   "execution_count": 65,
   "id": "54df427f",
   "metadata": {},
   "outputs": [
    {
     "data": {
      "text/html": [
       "<div>\n",
       "<style scoped>\n",
       "    .dataframe tbody tr th:only-of-type {\n",
       "        vertical-align: middle;\n",
       "    }\n",
       "\n",
       "    .dataframe tbody tr th {\n",
       "        vertical-align: top;\n",
       "    }\n",
       "\n",
       "    .dataframe thead th {\n",
       "        text-align: right;\n",
       "    }\n",
       "</style>\n",
       "<table border=\"1\" class=\"dataframe\">\n",
       "  <thead>\n",
       "    <tr style=\"text-align: right;\">\n",
       "      <th></th>\n",
       "      <th>url</th>\n",
       "      <th>title</th>\n",
       "      <th>date</th>\n",
       "      <th>source</th>\n",
       "      <th>indexno</th>\n",
       "      <th>doc_no</th>\n",
       "      <th>category</th>\n",
       "      <th>region</th>\n",
       "    </tr>\n",
       "  </thead>\n",
       "  <tbody>\n",
       "  </tbody>\n",
       "</table>\n",
       "</div>"
      ],
      "text/plain": [
       "Empty DataFrame\n",
       "Columns: [url, title, date, source, indexno, doc_no, category, region]\n",
       "Index: []"
      ]
     },
     "execution_count": 65,
     "metadata": {},
     "output_type": "execute_result"
    }
   ],
   "source": [
    "df"
   ]
  },
  {
   "cell_type": "code",
   "execution_count": null,
   "id": "1a71a001",
   "metadata": {},
   "outputs": [],
   "source": []
  }
 ],
 "metadata": {
  "kernelspec": {
   "display_name": "Python 3 (ipykernel)",
   "language": "python",
   "name": "python3"
  },
  "language_info": {
   "codemirror_mode": {
    "name": "ipython",
    "version": 3
   },
   "file_extension": ".py",
   "mimetype": "text/x-python",
   "name": "python",
   "nbconvert_exporter": "python",
   "pygments_lexer": "ipython3",
   "version": "3.10.9"
  }
 },
 "nbformat": 4,
 "nbformat_minor": 5
}
