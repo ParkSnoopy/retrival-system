{
 "cells": [
  {
   "cell_type": "code",
   "execution_count": 1,
   "id": "d1fcb835",
   "metadata": {},
   "outputs": [],
   "source": [
    "import pandas as pd\n",
    "import numpy as np"
   ]
  },
  {
   "cell_type": "code",
   "execution_count": 2,
   "id": "eae03059",
   "metadata": {},
   "outputs": [],
   "source": [
    "df1 = pd.read_csv('data.csv')\n",
    "df2 = pd.read_csv('data - Copy.csv')"
   ]
  },
  {
   "cell_type": "code",
   "execution_count": 3,
   "id": "10d3e4dd",
   "metadata": {
    "scrolled": true
   },
   "outputs": [],
   "source": [
    "# ['Unnamed: 0', 'URL', 'title', 'date', 'source', 'article', '索引号', \n",
    "# ' 发文机关', ' 标题', ' 发文字号', ' 分类', ' 成文日期', ' 发布日期']\n",
    "df1 = df1.loc[:, ['URL', 'title', 'date', 'source', 'article', '索引号', ' 发文字号', ' 分类']]"
   ]
  },
  {
   "cell_type": "code",
   "execution_count": 4,
   "id": "d6c515a5",
   "metadata": {},
   "outputs": [
    {
     "data": {
      "text/plain": [
       "url          0\n",
       "title        0\n",
       "date         0\n",
       "source       0\n",
       "article      0\n",
       "indexno     40\n",
       "doc_no      40\n",
       "category    40\n",
       "dtype: int64"
      ]
     },
     "execution_count": 4,
     "metadata": {},
     "output_type": "execute_result"
    }
   ],
   "source": [
    "df1.columns = ['url', 'title', 'date', 'source', 'article', 'indexno', 'doc_no', 'category']\n",
    "df1.isnull().sum()"
   ]
  },
  {
   "cell_type": "code",
   "execution_count": 5,
   "id": "625d4fce",
   "metadata": {},
   "outputs": [],
   "source": [
    "df2 = df2.loc[\n",
    "    :, \n",
    "    ['URL', 'title', 'date', 'source', ' 索引号', ' 发文字号', ' 分类', '地区']\n",
    "]"
   ]
  },
  {
   "cell_type": "code",
   "execution_count": 6,
   "id": "c4549454",
   "metadata": {},
   "outputs": [
    {
     "data": {
      "text/plain": [
       "url          0\n",
       "title        0\n",
       "date         0\n",
       "source       0\n",
       "indexno     45\n",
       "doc_no      37\n",
       "category    33\n",
       "region       0\n",
       "dtype: int64"
      ]
     },
     "execution_count": 6,
     "metadata": {},
     "output_type": "execute_result"
    }
   ],
   "source": [
    "df2.columns = ['url', 'title', 'date', 'source', 'indexno', 'doc_no', 'category', 'region']\n",
    "df2.isnull().sum()"
   ]
  },
  {
   "cell_type": "code",
   "execution_count": 7,
   "id": "4431e444",
   "metadata": {},
   "outputs": [],
   "source": [
    "df3 = pd.DataFrame(columns=['url', 'title', 'date', 'source', 'article', 'indexno', 'doc_no', 'category', 'region'])"
   ]
  },
  {
   "cell_type": "code",
   "execution_count": 8,
   "id": "3c889193",
   "metadata": {},
   "outputs": [],
   "source": [
    "df3 = pd.concat([df3, df1, df2])"
   ]
  },
  {
   "cell_type": "code",
   "execution_count": 9,
   "id": "6b6802f6",
   "metadata": {
    "scrolled": true
   },
   "outputs": [
    {
     "data": {
      "text/html": [
       "<div>\n",
       "<style scoped>\n",
       "    .dataframe tbody tr th:only-of-type {\n",
       "        vertical-align: middle;\n",
       "    }\n",
       "\n",
       "    .dataframe tbody tr th {\n",
       "        vertical-align: top;\n",
       "    }\n",
       "\n",
       "    .dataframe thead th {\n",
       "        text-align: right;\n",
       "    }\n",
       "</style>\n",
       "<table border=\"1\" class=\"dataframe\">\n",
       "  <thead>\n",
       "    <tr style=\"text-align: right;\">\n",
       "      <th></th>\n",
       "      <th>url</th>\n",
       "      <th>title</th>\n",
       "      <th>date</th>\n",
       "      <th>source</th>\n",
       "      <th>article</th>\n",
       "      <th>indexno</th>\n",
       "      <th>doc_no</th>\n",
       "      <th>category</th>\n",
       "      <th>region</th>\n",
       "    </tr>\n",
       "  </thead>\n",
       "  <tbody>\n",
       "    <tr>\n",
       "      <th>0</th>\n",
       "      <td>http://xxgk.jl.gov.cn/zsjg/fgw/xxgkmlqy/202304...</td>\n",
       "      <td>关于印发医保支持中医药传承创新发展若干政策措施的通知</td>\n",
       "      <td>2023-04-11</td>\n",
       "      <td>省政府信息公开专栏</td>\n",
       "      <td>各市（州）医疗保障局、卫生健康委、中医药管理局，长白山管委会医疗保障局、卫生健康局、中医药管...</td>\n",
       "      <td>NaN</td>\n",
       "      <td>NaN</td>\n",
       "      <td>NaN</td>\n",
       "      <td>NaN</td>\n",
       "    </tr>\n",
       "    <tr>\n",
       "      <th>1</th>\n",
       "      <td>http://www.tumen.gov.cn/tmszfxxgkw/gzbm/cyqguo...</td>\n",
       "      <td>2023年图们市医疗保险经办中心部门预算报告</td>\n",
       "      <td>2023-05-31</td>\n",
       "      <td>图们市人民政府</td>\n",
       "      <td>目录 第一部分 部门概况 一、主要职能 二、机构设置  第二部分 2023 年部门预算表（见...</td>\n",
       "      <td>NaN</td>\n",
       "      <td>NaN</td>\n",
       "      <td>NaN</td>\n",
       "      <td>NaN</td>\n",
       "    </tr>\n",
       "    <tr>\n",
       "      <th>2</th>\n",
       "      <td>http://xxgk.jl.gov.cn/zsjg/fgw/xxgkmlqy/202302...</td>\n",
       "      <td>吉林省社会医疗保险管理局2023年单位预算</td>\n",
       "      <td>2023-02-21</td>\n",
       "      <td>省政府信息公开专栏</td>\n",
       "      <td>吉林省社会医疗保险管理局2023年单位预算</td>\n",
       "      <td>NaN</td>\n",
       "      <td>NaN</td>\n",
       "      <td>NaN</td>\n",
       "      <td>NaN</td>\n",
       "    </tr>\n",
       "    <tr>\n",
       "      <th>3</th>\n",
       "      <td>http://xxgk.jl.gov.cn/zsjg/fgw/xxgkmlqy/202302...</td>\n",
       "      <td>关于做好国家基本医疗保险工伤保险和生育保险药品目录2022年执行工作的通知</td>\n",
       "      <td>2023-02-27</td>\n",
       "      <td>省政府信息公开专栏</td>\n",
       "      <td>各市（州）医疗保障局、人力资源和社会保障局，长白山管委会医疗保障局、人力资源和社会保障局，各...</td>\n",
       "      <td>NaN</td>\n",
       "      <td>NaN</td>\n",
       "      <td>NaN</td>\n",
       "      <td>NaN</td>\n",
       "    </tr>\n",
       "    <tr>\n",
       "      <th>4</th>\n",
       "      <td>http://xxgk.jl.gov.cn/zsjg/fgw/xxgkmlqy/202302...</td>\n",
       "      <td>关于动态调整吉林省基本医疗保险工伤保险和生育保险诊疗项目及医疗服务设施项目目录2022年的通知</td>\n",
       "      <td>2023-02-28</td>\n",
       "      <td>省政府信息公开专栏</td>\n",
       "      <td>各市（州）医疗保障局、长白山管委会医疗保障局,各县（市、区）医疗保障局: 为进一步提高肿瘤参...</td>\n",
       "      <td>NaN</td>\n",
       "      <td>NaN</td>\n",
       "      <td>NaN</td>\n",
       "      <td>NaN</td>\n",
       "    </tr>\n",
       "    <tr>\n",
       "      <th>...</th>\n",
       "      <td>...</td>\n",
       "      <td>...</td>\n",
       "      <td>...</td>\n",
       "      <td>...</td>\n",
       "      <td>...</td>\n",
       "      <td>...</td>\n",
       "      <td>...</td>\n",
       "      <td>...</td>\n",
       "      <td>...</td>\n",
       "    </tr>\n",
       "    <tr>\n",
       "      <th>94</th>\n",
       "      <td>http://www.shanxi.gov.cn/zfxxgk/zfxxgkzl/fdzdg...</td>\n",
       "      <td>中共山西省委 山西省人民政府关于印发《山西省综合立体交通网规划纲要》的通知</td>\n",
       "      <td>2023-03-30</td>\n",
       "      <td>中共陕西省委办公厅</td>\n",
       "      <td>NaN</td>\n",
       "      <td>NaN</td>\n",
       "      <td>NaN</td>\n",
       "      <td>NaN</td>\n",
       "      <td>山西省</td>\n",
       "    </tr>\n",
       "    <tr>\n",
       "      <th>95</th>\n",
       "      <td>http://www.shanxi.gov.cn/zfxxgk/zfxxgkzl/fdzdg...</td>\n",
       "      <td>中共山西省委 山西省人民政府关于做好2023年全面推进乡村振兴重点工作的实施意见</td>\n",
       "      <td>2023-03-22</td>\n",
       "      <td>中共陕西省委办公厅</td>\n",
       "      <td>NaN</td>\n",
       "      <td>NaN</td>\n",
       "      <td>NaN</td>\n",
       "      <td>NaN</td>\n",
       "      <td>山西省</td>\n",
       "    </tr>\n",
       "    <tr>\n",
       "      <th>96</th>\n",
       "      <td>http://www.shanxi.gov.cn/zfxxgk/zfxxgkzl/fdzdg...</td>\n",
       "      <td>中共山西省委办公厅关于印发《山西省市级以下事业单位领导人员管理办法》的通知</td>\n",
       "      <td>2023-03-15</td>\n",
       "      <td>中共陕西省委办公厅</td>\n",
       "      <td>NaN</td>\n",
       "      <td>NaN</td>\n",
       "      <td>NaN</td>\n",
       "      <td>NaN</td>\n",
       "      <td>山西省</td>\n",
       "    </tr>\n",
       "    <tr>\n",
       "      <th>97</th>\n",
       "      <td>http://www.shanxi.gov.cn/zfxxgk/zfxxgkzl/fdzdg...</td>\n",
       "      <td>中共山西省委 山西省人民政府关于贯彻落实《国家标准化发展纲要》的实施意见</td>\n",
       "      <td>2023-03-14</td>\n",
       "      <td>中共陕西省委办公厅</td>\n",
       "      <td>NaN</td>\n",
       "      <td>NaN</td>\n",
       "      <td>NaN</td>\n",
       "      <td>NaN</td>\n",
       "      <td>山西省</td>\n",
       "    </tr>\n",
       "    <tr>\n",
       "      <th>98</th>\n",
       "      <td>http://www.shanxi.gov.cn/zfxxgk/zfxxgkzl/fdzdg...</td>\n",
       "      <td>中共山西省委 山西省人民政府关于加强新时代老龄工作的实施意见</td>\n",
       "      <td>2023-03-14</td>\n",
       "      <td>中共陕西省委办公厅</td>\n",
       "      <td>NaN</td>\n",
       "      <td>NaN</td>\n",
       "      <td>NaN</td>\n",
       "      <td>NaN</td>\n",
       "      <td>山西省</td>\n",
       "    </tr>\n",
       "  </tbody>\n",
       "</table>\n",
       "<p>139 rows × 9 columns</p>\n",
       "</div>"
      ],
      "text/plain": [
       "                                                  url  \\\n",
       "0   http://xxgk.jl.gov.cn/zsjg/fgw/xxgkmlqy/202304...   \n",
       "1   http://www.tumen.gov.cn/tmszfxxgkw/gzbm/cyqguo...   \n",
       "2   http://xxgk.jl.gov.cn/zsjg/fgw/xxgkmlqy/202302...   \n",
       "3   http://xxgk.jl.gov.cn/zsjg/fgw/xxgkmlqy/202302...   \n",
       "4   http://xxgk.jl.gov.cn/zsjg/fgw/xxgkmlqy/202302...   \n",
       "..                                                ...   \n",
       "94  http://www.shanxi.gov.cn/zfxxgk/zfxxgkzl/fdzdg...   \n",
       "95  http://www.shanxi.gov.cn/zfxxgk/zfxxgkzl/fdzdg...   \n",
       "96  http://www.shanxi.gov.cn/zfxxgk/zfxxgkzl/fdzdg...   \n",
       "97  http://www.shanxi.gov.cn/zfxxgk/zfxxgkzl/fdzdg...   \n",
       "98  http://www.shanxi.gov.cn/zfxxgk/zfxxgkzl/fdzdg...   \n",
       "\n",
       "                                              title        date     source  \\\n",
       "0                        关于印发医保支持中医药传承创新发展若干政策措施的通知  2023-04-11  省政府信息公开专栏   \n",
       "1                            2023年图们市医疗保险经办中心部门预算报告  2023-05-31    图们市人民政府   \n",
       "2                             吉林省社会医疗保险管理局2023年单位预算  2023-02-21  省政府信息公开专栏   \n",
       "3             关于做好国家基本医疗保险工伤保险和生育保险药品目录2022年执行工作的通知  2023-02-27  省政府信息公开专栏   \n",
       "4   关于动态调整吉林省基本医疗保险工伤保险和生育保险诊疗项目及医疗服务设施项目目录2022年的通知  2023-02-28  省政府信息公开专栏   \n",
       "..                                              ...         ...        ...   \n",
       "94            中共山西省委 山西省人民政府关于印发《山西省综合立体交通网规划纲要》的通知  2023-03-30  中共陕西省委办公厅   \n",
       "95         中共山西省委 山西省人民政府关于做好2023年全面推进乡村振兴重点工作的实施意见  2023-03-22  中共陕西省委办公厅   \n",
       "96            中共山西省委办公厅关于印发《山西省市级以下事业单位领导人员管理办法》的通知  2023-03-15  中共陕西省委办公厅   \n",
       "97             中共山西省委 山西省人民政府关于贯彻落实《国家标准化发展纲要》的实施意见  2023-03-14  中共陕西省委办公厅   \n",
       "98                   中共山西省委 山西省人民政府关于加强新时代老龄工作的实施意见  2023-03-14  中共陕西省委办公厅   \n",
       "\n",
       "                                              article indexno doc_no category  \\\n",
       "0   各市（州）医疗保障局、卫生健康委、中医药管理局，长白山管委会医疗保障局、卫生健康局、中医药管...     NaN    NaN      NaN   \n",
       "1   目录 第一部分 部门概况 一、主要职能 二、机构设置  第二部分 2023 年部门预算表（见...     NaN    NaN      NaN   \n",
       "2                               吉林省社会医疗保险管理局2023年单位预算     NaN    NaN      NaN   \n",
       "3   各市（州）医疗保障局、人力资源和社会保障局，长白山管委会医疗保障局、人力资源和社会保障局，各...     NaN    NaN      NaN   \n",
       "4   各市（州）医疗保障局、长白山管委会医疗保障局,各县（市、区）医疗保障局: 为进一步提高肿瘤参...     NaN    NaN      NaN   \n",
       "..                                                ...     ...    ...      ...   \n",
       "94                                                NaN     NaN    NaN      NaN   \n",
       "95                                                NaN     NaN    NaN      NaN   \n",
       "96                                                NaN     NaN    NaN      NaN   \n",
       "97                                                NaN     NaN    NaN      NaN   \n",
       "98                                                NaN     NaN    NaN      NaN   \n",
       "\n",
       "   region  \n",
       "0     NaN  \n",
       "1     NaN  \n",
       "2     NaN  \n",
       "3     NaN  \n",
       "4     NaN  \n",
       "..    ...  \n",
       "94    山西省  \n",
       "95    山西省  \n",
       "96    山西省  \n",
       "97    山西省  \n",
       "98    山西省  \n",
       "\n",
       "[139 rows x 9 columns]"
      ]
     },
     "execution_count": 9,
     "metadata": {},
     "output_type": "execute_result"
    }
   ],
   "source": [
    "df3"
   ]
  },
  {
   "cell_type": "code",
   "execution_count": 10,
   "id": "56cd618c",
   "metadata": {},
   "outputs": [
    {
     "data": {
      "text/plain": [
       "url          0\n",
       "title        0\n",
       "date         0\n",
       "source       0\n",
       "article     99\n",
       "indexno     85\n",
       "doc_no      77\n",
       "category    73\n",
       "region      40\n",
       "dtype: int64"
      ]
     },
     "execution_count": 10,
     "metadata": {},
     "output_type": "execute_result"
    }
   ],
   "source": [
    "df3.isnull().sum()"
   ]
  },
  {
   "cell_type": "code",
   "execution_count": 11,
   "id": "8ee56e14",
   "metadata": {},
   "outputs": [
    {
     "data": {
      "text/plain": [
       "(139, 9)"
      ]
     },
     "execution_count": 11,
     "metadata": {},
     "output_type": "execute_result"
    }
   ],
   "source": [
    "df3.shape"
   ]
  },
  {
   "cell_type": "code",
   "execution_count": 12,
   "id": "4973ec97",
   "metadata": {},
   "outputs": [],
   "source": [
    "df = df3.drop_duplicates(subset=['url'])"
   ]
  },
  {
   "cell_type": "code",
   "execution_count": 13,
   "id": "72f21507",
   "metadata": {},
   "outputs": [
    {
     "data": {
      "text/plain": [
       "(96, 9)"
      ]
     },
     "execution_count": 13,
     "metadata": {},
     "output_type": "execute_result"
    }
   ],
   "source": [
    "df.shape"
   ]
  },
  {
   "cell_type": "code",
   "execution_count": 15,
   "id": "97351aea",
   "metadata": {},
   "outputs": [
    {
     "data": {
      "text/plain": [
       "url          0\n",
       "title        0\n",
       "date         0\n",
       "source       0\n",
       "article     59\n",
       "indexno     59\n",
       "doc_no      44\n",
       "category    47\n",
       "region      37\n",
       "dtype: int64"
      ]
     },
     "execution_count": 15,
     "metadata": {},
     "output_type": "execute_result"
    }
   ],
   "source": [
    "df.isnull().sum()"
   ]
  },
  {
   "cell_type": "code",
   "execution_count": null,
   "id": "1a8404e6",
   "metadata": {},
   "outputs": [],
   "source": [
    "df."
   ]
  }
 ],
 "metadata": {
  "kernelspec": {
   "display_name": "Python 3 (ipykernel)",
   "language": "python",
   "name": "python3"
  },
  "language_info": {
   "codemirror_mode": {
    "name": "ipython",
    "version": 3
   },
   "file_extension": ".py",
   "mimetype": "text/x-python",
   "name": "python",
   "nbconvert_exporter": "python",
   "pygments_lexer": "ipython3",
   "version": "3.10.9"
  }
 },
 "nbformat": 4,
 "nbformat_minor": 5
}
